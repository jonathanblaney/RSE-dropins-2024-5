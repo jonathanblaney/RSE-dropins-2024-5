{
 "cells": [
  {
   "cell_type": "markdown",
   "id": "54d9c4f1",
   "metadata": {},
   "source": [
    "#### Python has three principal layers of functionality:\n",
    "    \n",
    "1. Built-ins, which are always available, eg ```print```.\n",
    "2. Standard library modules, which are installed with Python but need to be imported before they can be used, eg ```re```.\n",
    "3. Third-party modules, which need to be installed and then imported, eg ```requests```. Note that the Anaconda Python distribution includes more than the standard installation."
   ]
  },
  {
   "cell_type": "markdown",
   "id": "9a73c4b8",
   "metadata": {},
   "source": [
    "When you create a *variable* Python infers its type, which then affects what you can do with it. You can use string methods on strings, as we did in week 1, but you have to use integer methods on integers.\n",
    "\n",
    "The main types are: *string*, *integer*, *float*, *Boolean*."
   ]
  },
  {
   "cell_type": "code",
   "execution_count": null,
   "id": "36040f18",
   "metadata": {},
   "outputs": [],
   "source": [
    "name = \"Taylor Swift\"\n",
    "age = 34\n",
    "shoe_size = 9.0\n",
    "is_famous = True"
   ]
  },
  {
   "cell_type": "code",
   "execution_count": null,
   "id": "5ea3230c",
   "metadata": {},
   "outputs": [],
   "source": [
    "print(type(name))\n",
    "print(type(age))\n",
    "print(type(shoe_size))\n",
    "print(type(is_famous))"
   ]
  },
  {
   "cell_type": "markdown",
   "id": "c1769e51",
   "metadata": {},
   "source": [
    "Remember that you can get help with the available methods in Jupyter Notebook."
   ]
  },
  {
   "cell_type": "code",
   "execution_count": null,
   "id": "15a12ee1",
   "metadata": {},
   "outputs": [],
   "source": [
    "name."
   ]
  },
  {
   "cell_type": "markdown",
   "id": "c75a4a59",
   "metadata": {},
   "source": [
    "Python also has container datatypes known as *Collections*. The ones to be comfortable with are *list*, *tuple*, *set* and *dictionary*."
   ]
  },
  {
   "cell_type": "markdown",
   "id": "f05daaa7",
   "metadata": {},
   "source": [
    "#### Lists\n",
    "\n",
    "Lists go in square brackets. They're a good data type to learn first because they match our natural intuition for lists. If you have a to-do list you can delete completed items and add new ones. In Python's terminology, this means they are *mutable*."
   ]
  },
  {
   "cell_type": "code",
   "execution_count": null,
   "id": "ab038451",
   "metadata": {},
   "outputs": [],
   "source": [
    "beatles = [\"John\", \"Paul\", \"George\", \"Ringo\"]"
   ]
  },
  {
   "cell_type": "markdown",
   "id": "fbf1c383",
   "metadata": {},
   "source": [
    "You can get parts of a list, which Python calls *slices* with more square brackets. But remember that Python starts counting from zero.\n",
    "\n",
    "What will `beatles[3]` return?"
   ]
  },
  {
   "cell_type": "code",
   "execution_count": null,
   "id": "f24f9452",
   "metadata": {},
   "outputs": [],
   "source": [
    "print(beatles[3])"
   ]
  },
  {
   "cell_type": "code",
   "execution_count": null,
   "id": "58b9d6f4",
   "metadata": {},
   "outputs": [],
   "source": [
    "print(beatles[1:2])\n",
    "print(beatles[2:])\n",
    "print(beatles[-1])"
   ]
  },
  {
   "cell_type": "markdown",
   "id": "e13a65d5",
   "metadata": {},
   "source": [
    "Note in the first example, that Python uses the second value of a range as a stopping value, so it's not included in the result."
   ]
  },
  {
   "cell_type": "code",
   "execution_count": null,
   "id": "5b8e443f",
   "metadata": {},
   "outputs": [],
   "source": [
    "for i in range(1, 10):\n",
    "    print(i)"
   ]
  },
  {
   "cell_type": "markdown",
   "id": "491d95e0",
   "metadata": {},
   "source": [
    "Lists are particularly suitable for a _comprehension_, where you loop over all the members of a collection. This is the simplest form:"
   ]
  },
  {
   "cell_type": "code",
   "execution_count": null,
   "id": "704f358d",
   "metadata": {},
   "outputs": [],
   "source": [
    "for beatle in beatles:\n",
    "    print(beatle)"
   ]
  },
  {
   "cell_type": "markdown",
   "id": "f25d695b",
   "metadata": {},
   "source": [
    "But you can use fstrings to produce something a bit more complicated. Put `f` before the first set of quotation marks and then within the quotation marks you can refer to the value held by a variable by putting the variable in curly brackets:"
   ]
  },
  {
   "cell_type": "code",
   "execution_count": null,
   "id": "916e3cf0",
   "metadata": {},
   "outputs": [],
   "source": [
    "for beatle in beatles:\n",
    "    print(f\"{beatle} was a member of The Beatles.\")"
   ]
  },
  {
   "cell_type": "markdown",
   "id": "def202c0",
   "metadata": {},
   "source": [
    "#### Logic"
   ]
  },
  {
   "cell_type": "markdown",
   "id": "98ad455c",
   "metadata": {},
   "source": [
    "You can use `if`, `else` and `elif` to do different things depending on the value of something:"
   ]
  },
  {
   "cell_type": "code",
   "execution_count": null,
   "id": "e91529eb",
   "metadata": {},
   "outputs": [],
   "source": [
    "if len(beatles) > 4:\n",
    "    print(\"Some say George Martin was the fifth Beatle.\")\n",
    "elif len(beatles) < 4:\n",
    "    print(\"Some say McCartney died in 1965 and there was a cover-up\")\n",
    "else:\n",
    "    print(\"Actually there were four Beatles.\")"
   ]
  },
  {
   "cell_type": "markdown",
   "id": "dede2ad5",
   "metadata": {},
   "source": [
    "We can combine a list comprehension and an if statement to filter lists. First we'll need to create new, empty lists:"
   ]
  },
  {
   "cell_type": "code",
   "execution_count": null,
   "id": "74a02015",
   "metadata": {},
   "outputs": [],
   "source": [
    "long_name_beatles = []\n",
    "short_name_beatles = []"
   ]
  },
  {
   "cell_type": "code",
   "execution_count": null,
   "id": "59f494ac",
   "metadata": {},
   "outputs": [],
   "source": [
    "for beatle in beatles:\n",
    "    if len(beatle) > 4:\n",
    "        long_name_beatles.append(beatle)\n",
    "    else:\n",
    "        short_name_beatles.append(beatle)"
   ]
  },
  {
   "cell_type": "code",
   "execution_count": null,
   "id": "308b8c28",
   "metadata": {},
   "outputs": [],
   "source": [
    "print(long_name_beatles)\n",
    "print(short_name_beatles)"
   ]
  },
  {
   "cell_type": "markdown",
   "id": "35732d69",
   "metadata": {},
   "source": [
    "#### Tuples\n",
    "\n",
    "Tuples are like lists in that they are *ordered* but they are unlike lists in that they are *immutable*. Tuples go in round brackets:"
   ]
  },
  {
   "cell_type": "code",
   "execution_count": null,
   "id": "78a6c04b",
   "metadata": {},
   "outputs": [],
   "source": [
    "immutable_beatles = (\"John\", \"Paul\", \"George\", \"Ringo\")"
   ]
  },
  {
   "cell_type": "markdown",
   "id": "2b12a6fe",
   "metadata": {},
   "source": [
    "As long as we're not changing the tuple, we can do exactly the same things as with lists, eg:"
   ]
  },
  {
   "cell_type": "code",
   "execution_count": null,
   "id": "dcad9591",
   "metadata": {},
   "outputs": [],
   "source": [
    "for beatle in immutable_beatles:\n",
    "    print(f\"{beatle} was an immutable beatle\")"
   ]
  },
  {
   "cell_type": "markdown",
   "id": "9bcc38d0",
   "metadata": {},
   "source": [
    "But you can't add or delete. If you try you'll get an error:"
   ]
  },
  {
   "cell_type": "code",
   "execution_count": null,
   "id": "dbad728f",
   "metadata": {},
   "outputs": [],
   "source": [
    "immutable_beatles.append(\"George Martin\")"
   ]
  },
  {
   "cell_type": "markdown",
   "id": "5d0ebceb",
   "metadata": {},
   "source": [
    "This makes tuples more efficient. But why?"
   ]
  },
  {
   "cell_type": "markdown",
   "id": "da5b3b65",
   "metadata": {},
   "source": [
    "#### Sets\n",
    "\n",
    "Sets are *mutable* (like lists) but not *ordered*. Sets cannot contain duplicates. This is useful for guaranteeing uniqueness:"
   ]
  },
  {
   "cell_type": "code",
   "execution_count": null,
   "id": "5ce9abe4",
   "metadata": {},
   "outputs": [],
   "source": [
    "mylist = [23, 42, 96, 42, 47, 91, 57, 11, 98, 47, 32]\n",
    "myset = set(mylist)\n",
    "print(myset)"
   ]
  },
  {
   "cell_type": "markdown",
   "id": "5ed45164",
   "metadata": {},
   "source": [
    "Another nice feature of sets is that you can compare two or more sets and find:\n",
    "- the *intersection* (which elements are common to all) `&`\n",
    "- the *union* (all elements in all sets) `|`\n",
    "- the *difference* (elements in set 1 which are not in set 2) `-`"
   ]
  },
  {
   "cell_type": "code",
   "execution_count": null,
   "id": "42ca58f5",
   "metadata": {},
   "outputs": [],
   "source": [
    "set1 = set([81011, 91011, 70101, 91100, 91111, 91001, 81100, 81111, 81001])\n",
    "set2 = set([70110, 91000, 90111, 91001, 81011, 81100, 71011, 81110, 81001, 91111])"
   ]
  },
  {
   "cell_type": "code",
   "execution_count": null,
   "id": "bfab7d1d",
   "metadata": {},
   "outputs": [],
   "source": [
    "print(f\"These numbers are in both sets {set1 & set2}.\\n\")\n",
    "print(f\"These numbers are in at least one set {set1 | set2}.\\n\")\n",
    "print(f\"These numbers are in set 1 only: {set1 - set2}.\\n\")\n",
    "print(f\"These numbers are in set 2 only: {set2 - set1}.\\n\")"
   ]
  },
  {
   "cell_type": "markdown",
   "id": "ffc96355",
   "metadata": {},
   "source": [
    "#### Dictionaries\n",
    "\n",
    "Dictionaries are pairs of keys and values separated by colons. The syntax is very similar (but not identical) to JSON. Keys must be unique within a dictionary. Values can be any of the data types above, or other dictionaries. So values can be lists or dictionaries can be nested inside dictionaries."
   ]
  },
  {
   "cell_type": "code",
   "execution_count": null,
   "id": "15b460a9",
   "metadata": {},
   "outputs": [],
   "source": [
    "dictbeatles = {\"John\": 1940, \"Paul\": 1942, \"George\": 1943, \"Ringo\": 1940}"
   ]
  },
  {
   "cell_type": "code",
   "execution_count": null,
   "id": "28632db4",
   "metadata": {},
   "outputs": [],
   "source": [
    "print(f\"Paul was born in {dictbeatles['Paul']}\")"
   ]
  },
  {
   "cell_type": "markdown",
   "id": "2908e23c",
   "metadata": {},
   "source": [
    "We can iterate over a dictionary but the syntax is slightly more complicated than with a list or tuple comprehension. Conventionally the\n",
    "key and the value are given the names `k` and `v`."
   ]
  },
  {
   "cell_type": "code",
   "execution_count": null,
   "id": "935b5771",
   "metadata": {},
   "outputs": [],
   "source": [
    "for k, v in dictbeatles.items():\n",
    "    print(k, v)"
   ]
  },
  {
   "cell_type": "markdown",
   "id": "647643f5",
   "metadata": {},
   "source": [
    "We can write `if` statements to filter the keys or the values or both."
   ]
  },
  {
   "cell_type": "code",
   "execution_count": null,
   "id": "733fb1e8",
   "metadata": {},
   "outputs": [],
   "source": [
    "print(\"The younger Beatles are:\\n\")\n",
    "for k, v in dictbeatles.items():\n",
    "    if v > 1940:\n",
    "        print(k)"
   ]
  },
  {
   "cell_type": "markdown",
   "id": "6dbbfa48",
   "metadata": {},
   "source": [
    "You can sort a dictionary by its key:"
   ]
  },
  {
   "cell_type": "code",
   "execution_count": null,
   "id": "3d4b73e9",
   "metadata": {},
   "outputs": [],
   "source": [
    "print(sorted(dictbeatles.items()))"
   ]
  },
  {
   "cell_type": "markdown",
   "id": "e9ab4861",
   "metadata": {},
   "source": [
    "It’s a bit more complicated to get things like maximums and minimums from a dictionary, but here’s how you might do it."
   ]
  },
  {
   "cell_type": "code",
   "execution_count": null,
   "id": "3d13ae8a",
   "metadata": {},
   "outputs": [],
   "source": [
    "print(f\"The youngest Beatle was {max(dictbeatles, key=dictbeatles.get)}.\")\n",
    "print(f\"The oldest Beatle was {min(dictbeatles, key=dictbeatles.get)}.\")"
   ]
  },
  {
   "cell_type": "markdown",
   "id": "fce0c5a7",
   "metadata": {},
   "source": [
    "In the real world, John was not the oldest Beatle..."
   ]
  },
  {
   "cell_type": "markdown",
   "id": "a9148850",
   "metadata": {},
   "source": [
    "#### Functions\n",
    "\n",
    "Functions are repeatable bits of code. You don’t have to use them but they make code cleaner and reduce errors and inconsistencies. Once you have a function that works you can use it in different scripts too.\n",
    "\n",
    "When you read other people’s code you will almost certainly see some functions. Functions work a bit like a formula in Excel:\n",
    "`=sum(A1:A2)`\n",
    "\n",
    "Here `sum` is a function and it has two *arguments*: `A1` and `A2`. In Excel there have to be at least two arguments to sum because it doesn’t make sense to sum up one cell, but other Excel formulas do work on one cell. Equally in Python the number of arguments to a function will depend on what it does.\n",
    "\n",
    "In Python we can write our own functions so let’s rewrite the Excel sum formula in Python.\n",
    "\n",
    "- we have to start the function definition with `def`\n",
    "- we have to choose a name (people normally use verbs for functions)\n",
    "- we have to have round brackets followed by a colon\n",
    "- we should either return or print something"
   ]
  },
  {
   "cell_type": "code",
   "execution_count": null,
   "id": "084167b9",
   "metadata": {},
   "outputs": [],
   "source": [
    "def replicate_excel(num1, num2):\n",
    "    return num1 + num2"
   ]
  },
  {
   "cell_type": "code",
   "execution_count": null,
   "id": "fb4d0401",
   "metadata": {},
   "outputs": [],
   "source": [
    "replicate_excel(23432, 78907)"
   ]
  },
  {
   "cell_type": "markdown",
   "id": "b151ed6d",
   "metadata": {},
   "source": [
    "We can run this as often as we like. Although in this case there is already a built-in Python function called `sum`."
   ]
  },
  {
   "cell_type": "markdown",
   "id": "0f4e28cb",
   "metadata": {},
   "source": [
    "It's important to notice that we have to pass *exactly* two arguments to `replicate_excel` or we'll get an error:"
   ]
  },
  {
   "cell_type": "code",
   "execution_count": null,
   "id": "f7899f81",
   "metadata": {},
   "outputs": [],
   "source": [
    "replicate_excel(23432, 78907, 51092)"
   ]
  },
  {
   "cell_type": "markdown",
   "id": "0f5089ec",
   "metadata": {},
   "source": [
    "Let write a new function to tell a user they're not allowed to do something. First we'll just print a message, so no arguments are required. But we still need the round brackets:"
   ]
  },
  {
   "cell_type": "code",
   "execution_count": null,
   "id": "474983f1",
   "metadata": {},
   "outputs": [],
   "source": [
    "def say_no():\n",
    "    print(\"I'm sorry, I can't let you do that.\")"
   ]
  },
  {
   "cell_type": "code",
   "execution_count": null,
   "id": "5c135c8f",
   "metadata": {},
   "outputs": [],
   "source": [
    "say_no()"
   ]
  },
  {
   "cell_type": "markdown",
   "id": "e086bb07",
   "metadata": {},
   "source": [
    "Now we'll add an argument, so that we can put the username in the message."
   ]
  },
  {
   "cell_type": "code",
   "execution_count": null,
   "id": "71dbf7fc",
   "metadata": {},
   "outputs": [],
   "source": [
    "def say_no(username):\n",
    "    print(f\"I'm sorry, I can't let you do that, {username}.\")"
   ]
  },
  {
   "cell_type": "markdown",
   "id": "09e63582",
   "metadata": {},
   "source": [
    "Now we *must* provide a username."
   ]
  },
  {
   "cell_type": "code",
   "execution_count": null,
   "id": "6f5905a1",
   "metadata": {},
   "outputs": [],
   "source": [
    "say_no(\"Dave\")"
   ]
  },
  {
   "cell_type": "markdown",
   "id": "df302da0",
   "metadata": {},
   "source": [
    "You can put logic inside the body of a function, as much as you like, but if a function gets really complicated you should probably think about splitting the function into several functions.\n",
    "\n",
    "Let's revisit the `if` logic from above and either allow a user to do something or not, according to their status."
   ]
  },
  {
   "cell_type": "code",
   "execution_count": null,
   "id": "b74efb19",
   "metadata": {},
   "outputs": [],
   "source": [
    "def say_yes_or_no(username, status):\n",
    "        if status == 1:\n",
    "            print(f\"Your status is lowly, {username}. Go away!\")\n",
    "        elif status < 5:\n",
    "            print(f\"I'm sorry, {username}: you're not important enough to do that.\")\n",
    "        else:\n",
    "            print(f\"Right you are, {username}. Happy to be of service.\")"
   ]
  },
  {
   "cell_type": "markdown",
   "id": "b8e67aa3",
   "metadata": {},
   "source": [
    "Now we need to call it with two arguments, in the correct order."
   ]
  },
  {
   "cell_type": "code",
   "execution_count": null,
   "id": "10ec5a51",
   "metadata": {},
   "outputs": [],
   "source": [
    "say_yes_or_no(\"Dave\", 3)"
   ]
  },
  {
   "cell_type": "markdown",
   "id": "c9d8b958",
   "metadata": {},
   "source": [
    "A few weeks ago we look at the Dice similarity score, which compares two sets of values. If two sets are identical the score is 1; if two sets have nothing in common the score is 0.\n",
    "\n",
    "In LaTeX the formula looks like this:"
   ]
  },
  {
   "cell_type": "markdown",
   "id": "7706a534",
   "metadata": {},
   "source": [
    "\\$\\$\n",
    "\\begin{equation}\n",
    "\\text{Dice}(A, B) = \\frac{2 |A \\cap B|}{|A| + |B|}\n",
    "\\end{equation}\n",
    "\\$\\$"
   ]
  },
  {
   "cell_type": "markdown",
   "id": "295e74fe",
   "metadata": {},
   "source": [
    "How can we implement this in Python?\n",
    "\n",
    "The top line of the equation is finding the intersection of two sets and then multiplying it by two. We found the intersection of `set1` and `set2` above like this:"
   ]
  },
  {
   "cell_type": "code",
   "execution_count": null,
   "id": "67c45409",
   "metadata": {},
   "outputs": [],
   "source": [
    "print(set1 & set2)"
   ]
  },
  {
   "cell_type": "markdown",
   "id": "9c0a314b",
   "metadata": {},
   "source": [
    "For the Dice calculation we need the length of the intersection (which we can see in this case is going to be five items), multiplied by two."
   ]
  },
  {
   "cell_type": "code",
   "execution_count": null,
   "id": "27859222",
   "metadata": {},
   "outputs": [],
   "source": [
    "print(len(set1 & set2) * 2)"
   ]
  },
  {
   "cell_type": "markdown",
   "id": "d184aeac",
   "metadata": {},
   "source": [
    "For the lower half, we need to add the length of `set1` to the length of `set2`:"
   ]
  },
  {
   "cell_type": "code",
   "execution_count": null,
   "id": "c45f8ad8",
   "metadata": {},
   "outputs": [],
   "source": [
    "print(len(set1) + len(set2))"
   ]
  },
  {
   "cell_type": "markdown",
   "id": "6e8f875d",
   "metadata": {},
   "source": [
    "Breaking it down like this, we can see that the result of the whole equation in this case should be 10/19."
   ]
  },
  {
   "cell_type": "code",
   "execution_count": null,
   "id": "2cf87686",
   "metadata": {},
   "outputs": [],
   "source": [
    "print(10 / 19)"
   ]
  },
  {
   "cell_type": "markdown",
   "id": "0e3ccf1e",
   "metadata": {},
   "source": [
    "The whole equation in Python could be done like this. We'll also use fstrings to only give us three decimal places."
   ]
  },
  {
   "cell_type": "code",
   "execution_count": null,
   "id": "dd59f95a",
   "metadata": {},
   "outputs": [],
   "source": [
    "dice = (len(set1 & set2) * 2) / (len(set1) + len(set2))\n",
    "print(f\"{dice:.3}\")"
   ]
  },
  {
   "cell_type": "markdown",
   "id": "10a9c049",
   "metadata": {},
   "source": [
    "This is a good example of where you would want to define a function called something like `calculate_dice` and be able to run it multiple times with different arguments."
   ]
  },
  {
   "cell_type": "markdown",
   "id": "de8df237",
   "metadata": {},
   "source": [
    "##### Exercises\n",
    "\n",
    "- Write some logic to filter `mylist` into a unique list and a list of the duplicate numbers.\n",
    "- Modify the dictionary code to print out \"John was born in 1940\" etc.\n",
    "- Write the names of the older Beatles to a list.\n",
    "- From `immutable_beatles`, use a slice to print \"Ringo was the fourth immutable Beatle.\"\n",
    "- Write your own dictionary and query it (it doesn't have to be about The Beatles).\n",
    "- Write a function to calculate Dice similarity when given two sets as arguments."
   ]
  }
 ],
 "metadata": {
  "kernelspec": {
   "display_name": "Python 3 (ipykernel)",
   "language": "python",
   "name": "python3"
  },
  "language_info": {
   "codemirror_mode": {
    "name": "ipython",
    "version": 3
   },
   "file_extension": ".py",
   "mimetype": "text/x-python",
   "name": "python",
   "nbconvert_exporter": "python",
   "pygments_lexer": "ipython3",
   "version": "3.9.6"
  }
 },
 "nbformat": 4,
 "nbformat_minor": 5
}
