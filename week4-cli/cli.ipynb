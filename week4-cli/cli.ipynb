{
 "cells": [
  {
   "cell_type": "markdown",
   "id": "95cbd800",
   "metadata": {},
   "source": [
    "### What is the command line?\n",
    "\n",
    "It's a text interface to your computer. It can do almost anything that you can do with the more common graphical programs: open files, edit files, move, rename, delete files. You can also do things like surf the web or read email, if you really want to."
   ]
  },
  {
   "cell_type": "markdown",
   "id": "b58007da",
   "metadata": {},
   "source": [
    "### It's also called\n",
    "\n",
    "Useful to know in doing web searches, and in interpreting the answers.\n",
    "\n",
    "- _Terminal_ (particularly on the Mac)\n",
    "- _Shell_\n",
    "- _CLI_ (command line interface)\n",
    "- _Bash_ (actually a particular program, but often a synecdoche)"
   ]
  },
  {
   "cell_type": "markdown",
   "id": "6958e2bd",
   "metadata": {},
   "source": [
    "### Why should we care?\n",
    "\n",
    "The command line enables you to do common many computational tasks without writing any code. In this workshop we will do some of the things we did in Python in previous weeks.\n",
    "\n",
    "The command line is particularly suitable for working with very big files, because the whole file is not read into memory at once but line by line, or to working with lots of files.\n",
    "\n",
    "Often programs _can_ be run from the command line, such as `.py` Python files. Sometimes programs can _only_ be run from the command line, such as Pandoc."
   ]
  },
  {
   "cell_type": "markdown",
   "id": "7383c6f3",
   "metadata": {},
   "source": [
    "#### where am I?\n",
    "\n",
    "The simplest form  is just to type a command and press enter:\n",
    "\n",
    "```pwd```\n",
    "\n",
    "This stands for _print working directory_. CLI commands tend to be very short and quick to type."
   ]
  },
  {
   "cell_type": "markdown",
   "id": "f0701293",
   "metadata": {},
   "source": [
    "You can run CLI commands from Jupyter Notebook by prepending ```!```.\n",
    "\n",
    "You can also open a CLI window from the Jupyter Notebook.\n",
    "\n",
    "But the commands will need to match the default terminal you're running. For example:"
   ]
  },
  {
   "cell_type": "markdown",
   "id": "e5f953c3",
   "metadata": {},
   "source": [
    "If you're on a Mac you can run this to list the files on the same directory as the Notebook:"
   ]
  },
  {
   "cell_type": "code",
   "execution_count": null,
   "id": "20a23e39",
   "metadata": {},
   "outputs": [],
   "source": [
    "!ls"
   ]
  },
  {
   "cell_type": "markdown",
   "id": "8b958cc3",
   "metadata": {},
   "source": [
    "If you're on Windows you can run this to the list the files in the same folder as the Notebook:"
   ]
  },
  {
   "cell_type": "code",
   "execution_count": null,
   "id": "97f78264",
   "metadata": {},
   "outputs": [],
   "source": [
    "!dir"
   ]
  },
  {
   "cell_type": "markdown",
   "id": "77eb4421",
   "metadata": {},
   "source": [
    "#### count words\n",
    "\n",
    "Very often you need or want to run the command _on_ something. For example, to the count the words in a file you will need to specify the file. This is called an _argument_:\n",
    "\n",
    "```wc persuasion.txt```\n",
    "\n",
    "(If you're not in the same folder as the file you want to run ```wc``` on, you will need to specify the path to the file).\n",
    "\n",
    "You should get three numbers back: the number of lines, the number of words and the number of characters. This is the default with ```wc```.\n",
    "\n",
    "But we can choose to display only some of the figures with a _flag_. A flag modifies the default behaviour of a command. With ```wc``` we can return only the number of words in _Persuasion_ with the ```-w``` flag:\n",
    "\n",
    "```wc -w persuasion.txt```\n",
    "\n",
    "What about if we want to get the word counts of all of Jane Austen's novels? Instead of specifying a specific file as the argument we can specify a pattern to match. This is called _globbing_. The Austen files in our directory all end in ```.txt``` and no other files do, so this pattern is easy: anything ending in ```.txt```\n",
    "\n",
    "```wc -w *.txt```"
   ]
  },
  {
   "cell_type": "markdown",
   "id": "333ada29",
   "metadata": {},
   "source": [
    "A key feature of the command line is that it scales very well. We're getting the word counts for six novels here, but if we had 10,000 or 1000,000 novels in a directory, we can use exactly the same command. As long as they all end in ```.txt```, or some other pattern that we can specify."
   ]
  },
  {
   "cell_type": "markdown",
   "id": "4b94a2d3",
   "metadata": {},
   "source": [
    "The good news is that many command line programs follow exactly the same form as ```wc -w filename.txt```."
   ]
  },
  {
   "cell_type": "markdown",
   "id": "cbced79e",
   "metadata": {},
   "source": [
    "#### find strings\n",
    "\n",
    "Now let's look for strings in files using the tool ```grep``` (it stands for _global regular expression print_).\n",
    "\n",
    "The basic usage of grep is:\n",
    "\n",
    "```grep \"string-you-want-to-find\" filename```\n",
    "\n",
    "So to look for the word _Anne_ in ```persuasion.txt```:\n",
    "\n",
    "```grep \"Anne\" persuasion.txt```\n",
    "\n",
    "To get a count of the _number of lines_ that contain the string, ```grep``` has a ```-c``` flag:\n",
    "\n",
    "```grep -c \"Anne\" persuasion.txt```\n",
    "\n",
    "Note that flags vary from one CLI program to another, although they _sometimes_ mean the same thing.\n",
    "\n",
    "You can combine flags and the order usually doesn't matter. To count case-insensitive searches with ```grep``` we can use the ```-c``` flag and the ```-i``` flag together:\n",
    "\n",
    "```grep -ci \"marriage\" persuasion.txt```"
   ]
  },
  {
   "cell_type": "markdown",
   "id": "45f95caf",
   "metadata": {},
   "source": [
    "We can apply the same ```grep``` commands and, instead of searching just one text, we can search all the files in the directory with a ```.txt``` termination:\n",
    "\n",
    "```grep -ci \"marriage\" *.txt```\n",
    "\n",
    "Again, this is counting six Jane Austen novels but if there were 1,000 novels in the same directory we'd type exactly the same thing."
   ]
  },
  {
   "cell_type": "markdown",
   "id": "200c6f62",
   "metadata": {},
   "source": [
    "Of course we can use regular expressions with ```grep``` (it's in the name, after all). To do that we need the `-E` flag. Again, we would be returning lines that contain the specified regex but normally we'd like to see just the results of the regex matches. So we combine three flags:\n",
    "\n",
    "- `-i`, case insensitive\n",
    "- `-E`, use regex\n",
    "- `-o`, only return the part of the line that matches\n",
    "\n",
    "`grep -Eio \"\\w+ marriage\" *.txt`\n",
    "\n"
   ]
  },
  {
   "cell_type": "markdown",
   "id": "dc42965d",
   "metadata": {},
   "source": [
    "### pipes\n",
    "\n",
    "Individual command line programs are quite powerful, but using them by themselves is only a fraction of their power. The full utility of the command line lies in the way it is possible to chain commands together, sending the output from one simple command to the input of a different simple command, building up to the exact output required.\n",
    "\n",
    "We've got the results for the word before marriage but we might like to know how many there are across all of Austen's novels. We can count with ```grep``` but it gives results per novel. OK in the case of six novels but inconvenient if we are working with hundreds or thousands.\n",
    "\n",
    "Happily, we can combine CLI commands with other using the `|` character, known as pipe. This passes the output of the command to the left of the pipe to the input of the command to its right. So we can combine the two commands we've already seen, `wc` and `grep`:\n",
    "\n",
    "`grep -Eio \"marriage[sd]?\" *.txt | wc -l`\n",
    "\n",
    "Another example: when we counted the words in Jane Austen's novels the results were ordered alphabetically by novel. `wc` doesn't have a sort argument because there is a separate `sort` command that we can pipe to:\n",
    "\n",
    "`wc -w *.txt | sort`\n",
    "\n",
    "`sort` has arguments of its own, like `-r` for reverse:\n",
    "\n",
    "`wc -w *.txt | sort -r`"
   ]
  },
  {
   "cell_type": "markdown",
   "id": "30773721",
   "metadata": {},
   "source": [
    "##### Examining complex files\n",
    "\n",
    "We have two big XML files and two big HTML files of Adam Smith's _The Wealth of Nations_.\n",
    "\n",
    "How can we find out what's in them? \n",
    "\n",
    "We know that they are marked up with angle brackets so we can use `grep` and `regex` to find all the results, count and order them.\n",
    "\n",
    "(We could also write a Python script to do this but this way is quicker)."
   ]
  },
  {
   "cell_type": "markdown",
   "id": "3b4cfac3",
   "metadata": {},
   "source": [
    "The XML files are the only files in the directory with an XML termination so we don't need to specify the names:\n"
   ]
  },
  {
   "cell_type": "markdown",
   "id": "fba93450",
   "metadata": {
    "collapsed": true
   },
   "source": [
    "`grep -Eo \"<[^>]+>\" *.xml`"
   ]
  },
  {
   "cell_type": "markdown",
   "id": "2a74554f",
   "metadata": {},
   "source": [
    "But we don't want the filename; the flag for this is `-h`:"
   ]
  },
  {
   "cell_type": "markdown",
   "id": "8eb6a7c4",
   "metadata": {
    "collapsed": true
   },
   "source": [
    "`grep -Eoh \"<[^>]+>\" *.xml`"
   ]
  },
  {
   "cell_type": "markdown",
   "id": "590529fe",
   "metadata": {},
   "source": [
    "Nor do we want the closing tag so we adjust the regex:"
   ]
  },
  {
   "cell_type": "markdown",
   "id": "24f1bd53",
   "metadata": {},
   "source": [
    "`grep -Eo \"<[^>/]+>\" *.xml`"
   ]
  },
  {
   "cell_type": "markdown",
   "id": "86c4411b",
   "metadata": {},
   "source": [
    "`grep -Eo \"<[^>/]+>\" *.xml | sort | uniq -c | sort -nr | head -n 20`"
   ]
  },
  {
   "cell_type": "markdown",
   "id": "a8bd822a",
   "metadata": {},
   "source": [
    "We can just change `*.xml` to `*.html` to compare the HTML version:"
   ]
  },
  {
   "cell_type": "markdown",
   "id": "2436efa0",
   "metadata": {},
   "source": [
    "`grep -Eoh \"<[^>/]+>\" *.html | sort | uniq -c | sort -nr | head -n 20`"
   ]
  },
  {
   "cell_type": "markdown",
   "id": "a361de8a",
   "metadata": {},
   "source": [
    "#### Saving your results\n",
    "\n",
    "All these results aren't very useful if they just appear on screen. To write to a file instead, append ```> filename``` at the end of the commands (be aware that if a file of that name already exists it will be overwritten without warning you)."
   ]
  },
  {
   "cell_type": "markdown",
   "id": "b4c04390",
   "metadata": {},
   "source": [
    "`grep -Eio \"\\w+ marriage\" *.txt | sed 's/ /,/' | sed 's/:/,/' > marriage.csv`"
   ]
  },
  {
   "cell_type": "markdown",
   "id": "17207113",
   "metadata": {},
   "source": [
    "#### Group work\n",
    "\n",
    "- Search for the string _capital_ in the XML version of _The Wealth of Nations_\n",
    "- How many lines contain _capital_?\n",
    "- Returning the whole line makes it hard to see the results. Search for _capital_ but only return 10 characters around it (you can use the method we used when we did this in regex in week 2.\n",
    "- Write the results of the above search to a file called `capital.txt`\n",
    "- How can you find lines in _The Wealth of Nations_ that contain _capital_ and _gold_? How can you count how many lines contain both words? (you'll need to use pipes)\n",
    "- We didn't cover this above, but the flag for lines which **do not** match is `-v`. Use this to find and count the lines that contain _capital_ but which do not contain _gold_.\n",
    "- Redo the marriage search in Jane Austen that we did above, but remove the file termination when writing the results to CSV.\n",
    "- Delete all of the XML elements in _The Wealth of Nations_ and write the result to a new file called `wealth-of-nations.txt`"
   ]
  }
 ],
 "metadata": {
  "kernelspec": {
   "display_name": "Python 3 (ipykernel)",
   "language": "python",
   "name": "python3"
  },
  "language_info": {
   "codemirror_mode": {
    "name": "ipython",
    "version": 3
   },
   "file_extension": ".py",
   "mimetype": "text/x-python",
   "name": "python",
   "nbconvert_exporter": "python",
   "pygments_lexer": "ipython3",
   "version": "3.9.6"
  }
 },
 "nbformat": 4,
 "nbformat_minor": 5
}
