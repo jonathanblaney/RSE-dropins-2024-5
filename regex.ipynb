{
 "cells": [
  {
   "cell_type": "markdown",
   "id": "ffd4522a",
   "metadata": {},
   "source": [
    "### Regular expressions"
   ]
  },
  {
   "cell_type": "markdown",
   "id": "ef21cfe2",
   "metadata": {},
   "source": [
    "Regular expressions (regex) are patterns which match parts of text. Optionally, they can also replace. They are powerful ways of finding and changing strings.\n",
    "\n",
    "The most important point is that regular expressions are not specific to Python. They're ubiquitous in programming and usually available in any piece of software that works with sequences of characters."
   ]
  },
  {
   "cell_type": "markdown",
   "id": "e9a83c7e",
   "metadata": {},
   "source": [
    "Data preparation is a large part of most DH projects. Regex is a key tool, whatever your software or programming language. Learn regex once: use everywhere!"
   ]
  },
  {
   "cell_type": "markdown",
   "id": "30224cff",
   "metadata": {},
   "source": [
    "Regex has limitations. We'll come back to the at the end, but regex only works with strings. In regex, the number _5_ is a string, not an integer. That means that you can find sequences of numbers but with regex alone you can't increment those numbers or do other mathematical operations on them.\n",
    "\n",
    "Fortunately a programming language can do that. So if you combine regex with something like Python you can have the best of both."
   ]
  },
  {
   "cell_type": "markdown",
   "id": "51d81de9",
   "metadata": {},
   "source": [
    "Let's read in _Persuasion_ again, as we did last week. Make sure it's in the same folder as this notebook, or add a path that points to it:"
   ]
  },
  {
   "cell_type": "code",
   "execution_count": null,
   "id": "c62d7f19",
   "metadata": {},
   "outputs": [],
   "source": [
    "with open('persuasion.txt', 'r', encoding=\"utf-8\") as f:\n",
    "    persuasion = f.read()"
   ]
  },
  {
   "cell_type": "markdown",
   "id": "ef661563",
   "metadata": {},
   "source": [
    "Last week we had a really awkward way of looking for the context in which 'Anne' occurs:"
   ]
  },
  {
   "cell_type": "code",
   "execution_count": null,
   "id": "83556d57",
   "metadata": {},
   "outputs": [],
   "source": [
    "persuasion.find(\"Anne\")"
   ]
  },
  {
   "cell_type": "code",
   "execution_count": null,
   "id": "6fbb39c8",
   "metadata": {},
   "outputs": [],
   "source": [
    "persuasion[2113:2153]"
   ]
  },
  {
   "cell_type": "markdown",
   "id": "e0c636d4",
   "metadata": {},
   "source": [
    "To get the next occurrence we'd have to look in the slice after 2133 (note that parts of a slice can be omitted)."
   ]
  },
  {
   "cell_type": "code",
   "execution_count": null,
   "id": "1f5df457",
   "metadata": {},
   "outputs": [],
   "source": [
    "persuasion[2153:].find(\"Anne\")"
   ]
  },
  {
   "cell_type": "markdown",
   "id": "fc0909e1",
   "metadata": {},
   "source": [
    "But..."
   ]
  },
  {
   "cell_type": "code",
   "execution_count": null,
   "id": "00d1cac8",
   "metadata": {},
   "outputs": [],
   "source": [
    "persuasion[4310:4330]"
   ]
  },
  {
   "cell_type": "markdown",
   "id": "64eb40dc",
   "metadata": {},
   "source": [
    "We could programmatically loop through the text and look for the string we want in each fragment. Here's an approach to splitting the text in Python, using a ```while``` loop. But this is getting complicated immediately."
   ]
  },
  {
   "cell_type": "code",
   "execution_count": null,
   "id": "472e8ec0",
   "metadata": {},
   "outputs": [],
   "source": [
    "offset = 0\n",
    "while offset < 1000:\n",
    "    persuasion_chunk = persuasion[offset:offset + 100]\n",
    "    #print(f\"{offset}:{offset + 100}\") # show the chunk range\n",
    "    print(persuasion_chunk)\n",
    "    offset += 100"
   ]
  },
  {
   "cell_type": "markdown",
   "id": "275a06ab",
   "metadata": {},
   "source": [
    "We're only looking for literal strings so we can't ask for the context around a string like _Anne_ because we don't know in advance what that context is. This is where _regular expressions_, also called _regex_ can help.\n",
    "\n",
    "First we need to import Python's ```re``` module. It's part of the standard library so it will be installed in any normal installation of Python."
   ]
  },
  {
   "cell_type": "code",
   "execution_count": null,
   "id": "0ae89f72",
   "metadata": {},
   "outputs": [],
   "source": [
    "import re"
   ]
  },
  {
   "cell_type": "markdown",
   "id": "0f817bb1",
   "metadata": {},
   "source": [
    "Now we can use regex, in which some characters are _literal_ and some are _special_. Nearly every regex has a combination of both.\n",
    "\n",
    "But let's start just by running up a regex that only looks for the literal string _Anne_. Note that, because we imported the whole ```re``` library, we have to refer to ```re.findall```, not just ```findall```. \n",
    "\n",
    "We'll read the results into a variable called ```anne_context```."
   ]
  },
  {
   "cell_type": "code",
   "execution_count": null,
   "id": "433507de",
   "metadata": {},
   "outputs": [],
   "source": [
    "anne_context = re.findall(r\"Anne\", persuasion)"
   ]
  },
  {
   "cell_type": "markdown",
   "id": "11f47064",
   "metadata": {},
   "source": [
    "The results are now held in ```anne_context```."
   ]
  },
  {
   "cell_type": "code",
   "execution_count": null,
   "id": "2bffe68c",
   "metadata": {},
   "outputs": [],
   "source": [
    "anne_context"
   ]
  },
  {
   "cell_type": "markdown",
   "id": "7ea081cd",
   "metadata": {},
   "source": [
    "A key special character in regex is ```.``` and it means _any character_ so we can add this either side of our literal _Anne_ string to get the context, eg 10 characters either side."
   ]
  },
  {
   "cell_type": "code",
   "execution_count": null,
   "id": "19d88ad0",
   "metadata": {},
   "outputs": [],
   "source": [
    "anne_context = re.findall(r\"..........Anne..........\", persuasion)"
   ]
  },
  {
   "cell_type": "markdown",
   "id": "f58b8618",
   "metadata": {},
   "source": [
    "What are we getting back from Python here? Is it a string? How can we check?"
   ]
  },
  {
   "cell_type": "markdown",
   "id": "924fc22c",
   "metadata": {},
   "source": [
    "Because this turns out to be a list, we can use slicing again. For example to get the last mentions of Anne in _Persuasion_ we can do this:"
   ]
  },
  {
   "cell_type": "code",
   "execution_count": null,
   "id": "f76cdb75",
   "metadata": {},
   "outputs": [],
   "source": [
    "anne_context[-5:]"
   ]
  },
  {
   "cell_type": "markdown",
   "id": "9d19a0e3",
   "metadata": {},
   "source": [
    "If you're ever unsure about the syntax for lists, create a small list of your own to check your intuition."
   ]
  },
  {
   "cell_type": "code",
   "execution_count": null,
   "id": "a77a9a7e",
   "metadata": {},
   "outputs": [],
   "source": [
    "mylist = [1, 2, 3, 4, 5, 6]\n",
    "mylist[-5:]"
   ]
  },
  {
   "cell_type": "markdown",
   "id": "8d37e6e4",
   "metadata": {},
   "source": [
    "With the regex, we can always add or subtract more full points to get more or less context.\n",
    "\n",
    "But there is a problem with the results of the regex. Since this is a list, we can get its length:"
   ]
  },
  {
   "cell_type": "code",
   "execution_count": null,
   "id": "af68b727",
   "metadata": {},
   "outputs": [],
   "source": [
    "anne_context"
   ]
  },
  {
   "cell_type": "code",
   "execution_count": null,
   "id": "d724d313",
   "metadata": {},
   "outputs": [],
   "source": [
    "len(anne_context)"
   ]
  },
  {
   "cell_type": "code",
   "execution_count": null,
   "id": "29b72655",
   "metadata": {},
   "outputs": [],
   "source": [
    "persuasion.count(\"Anne\")"
   ]
  },
  {
   "cell_type": "markdown",
   "id": "f1375b9a",
   "metadata": {},
   "source": [
    "These kinds of sense checks are good to build in to your thinking, and your code, as much as possible."
   ]
  },
  {
   "cell_type": "markdown",
   "id": "529688aa",
   "metadata": {},
   "source": [
    "The next special character we'll use is ```?```, meaning _one or none_ of the preceding characters."
   ]
  },
  {
   "cell_type": "markdown",
   "id": "83c36321",
   "metadata": {},
   "source": [
    "If we're not sure of the spelling of _Anne_ we can now allow for _Ann_ as well\n"
   ]
  },
  {
   "cell_type": "code",
   "execution_count": null,
   "id": "ea2274ce",
   "metadata": {},
   "outputs": [],
   "source": [
    "anne_context = re.findall(r\"..........Anne?..........\", persuasion)"
   ]
  },
  {
   "cell_type": "markdown",
   "id": "e6971703",
   "metadata": {},
   "source": [
    "We can also use ```[^]``` to ask for any characters other than the ones after the ```^``` symbol."
   ]
  },
  {
   "cell_type": "code",
   "execution_count": null,
   "id": "bbf8dfc4",
   "metadata": {},
   "outputs": [],
   "source": [
    "no_anne_context = re.findall(r\".......Ann[^e]+......\", persuasion)"
   ]
  },
  {
   "cell_type": "code",
   "execution_count": null,
   "id": "40244f19",
   "metadata": {},
   "outputs": [],
   "source": [
    "no_anne_context"
   ]
  },
  {
   "cell_type": "markdown",
   "id": "80efeb2c",
   "metadata": {},
   "source": [
    "But we can also use this to make the characters around our string option. This is pretty crude but let's do it anyway:"
   ]
  },
  {
   "cell_type": "code",
   "execution_count": null,
   "id": "2f01c26c",
   "metadata": {},
   "outputs": [],
   "source": [
    "anne_context = re.findall(r\".?.?.?.?.?.?.?.?Anne.?.?.?.?.?.?.?.?.?.?\", persuasion)"
   ]
  },
  {
   "cell_type": "code",
   "execution_count": null,
   "id": "ee9111bd",
   "metadata": {},
   "outputs": [],
   "source": [
    "len(anne_context)"
   ]
  },
  {
   "cell_type": "markdown",
   "id": "f0570fb1",
   "metadata": {},
   "source": [
    "A much better way is to give a range of how many characters we want to match, using ```{``` and ```}```."
   ]
  },
  {
   "cell_type": "code",
   "execution_count": null,
   "id": "db3e0bb1",
   "metadata": {},
   "outputs": [],
   "source": [
    "anne_context = re.findall(r\".{0,20}Anne.{0,20}\", persuasion)"
   ]
  },
  {
   "cell_type": "code",
   "execution_count": null,
   "id": "6bbff35a",
   "metadata": {},
   "outputs": [],
   "source": [
    "len(anne_context)"
   ]
  },
  {
   "cell_type": "markdown",
   "id": "0c27d28c",
   "metadata": {},
   "source": [
    "We're still missing three..."
   ]
  },
  {
   "cell_type": "markdown",
   "id": "cc3bda17",
   "metadata": {},
   "source": [
    "Last week we weren't sure if there were characters called _Annette_ or places called _Annecy_ in the text. With regex we can check that. Let's look for _A_ followed by any number of lower-case letters.\n",
    "\n",
    "Square brackets represent a _character class_, meaning _any one of these in any order_. ```[a-z]``` is a convenience to save you from typing ```[abcdefghijklmnopqrstuvwxyz]``` every time.\n",
    "\n",
    "```+``` is like the ```?``` we saw above, but it means _one or more_."
   ]
  },
  {
   "cell_type": "code",
   "execution_count": null,
   "id": "208dba68",
   "metadata": {},
   "outputs": [],
   "source": [
    "capital_a = re.findall(r\"A[a-z]+\", persuasion)\n",
    "capital_a"
   ]
  },
  {
   "cell_type": "code",
   "execution_count": null,
   "id": "66ba1445",
   "metadata": {},
   "outputs": [],
   "source": [
    "capital_a.sort()\n",
    "capital_a"
   ]
  },
  {
   "cell_type": "code",
   "execution_count": null,
   "id": "c46b2844",
   "metadata": {},
   "outputs": [],
   "source": [
    "set(capital_a)"
   ]
  },
  {
   "cell_type": "markdown",
   "id": "8fd0435f",
   "metadata": {},
   "source": [
    "So there are, apparently, characters called _Alicia_, _Archibald_ and _Atkinson_."
   ]
  },
  {
   "cell_type": "code",
   "execution_count": null,
   "id": "44d43521",
   "metadata": {},
   "outputs": [],
   "source": [
    "len(set(capital_a))"
   ]
  },
  {
   "cell_type": "markdown",
   "id": "8067cd46",
   "metadata": {},
   "source": [
    "Can we use regex to look at all the verbs associated with Anne in _Persuasion_? Here's a first attempt:"
   ]
  },
  {
   "cell_type": "code",
   "execution_count": null,
   "id": "2d6ef94f",
   "metadata": {},
   "outputs": [],
   "source": [
    "annes_verbs = re.findall(r\"Anne [^ ]+ed\\W\", persuasion)"
   ]
  },
  {
   "cell_type": "code",
   "execution_count": null,
   "id": "ea2e7ce9",
   "metadata": {},
   "outputs": [],
   "source": [
    "print(annes_verbs.sort())"
   ]
  },
  {
   "cell_type": "markdown",
   "id": "14f6e212",
   "metadata": {},
   "source": [
    "These aren't, of course, all of Anne's verbs. Regex only operates on sequences of characters."
   ]
  },
  {
   "cell_type": "markdown",
   "id": "fe0ff835",
   "metadata": {},
   "source": [
    "We've now seen quite a lot of the regex syntax you'll ever need to find things with. To sum up:\n",
    "\n",
    "```.``` any character\n",
    "\n",
    "```+``` one or more of the preceding (by default, matches as much as possible: 'greedy')\n",
    "\n",
    "```?``` one or none of the preceding\n",
    "\n",
    "```*``` one or none of the preceding (by default, matches as much as possible: 'greedy')\n",
    "\n",
    "```[]``` a character class, 'find any of these, in any order'\n",
    "\n",
    "```[^]``` a negated character class 'find anything that is not one of these'\n",
    "\n",
    "What about if you want to find literal versions of the above, like a literal full stop?\n",
    "\n",
    "Put a ```\\``` in front of it to _escape_ it: make it not special. For example ```\\?``` matches a literal question mark.\n",
    "\n",
    "#### some shortcuts\n",
    "\n",
    "```\\w``` any non-whitespace character\n",
    "\n",
    "```\\W``` any whitespace character, including punctuation\n",
    "\n",
    "```[0-9]``` any number\n",
    "\n",
    "```[a-z]``` any lowercase letter\n",
    "\n",
    "```[A-Z]``` any uppercase letter"
   ]
  },
  {
   "cell_type": "markdown",
   "id": "2f7d91bc",
   "metadata": {},
   "source": [
    "But if you're new to regex this will still be a lot to take in. Practice is the only way to learning regex, so don't worry. The key thing is to remember that there are many situations where regex will make your life easier and you can look up the syntax any time you need to."
   ]
  },
  {
   "cell_type": "markdown",
   "id": "0ca07b26",
   "metadata": {},
   "source": [
    "Last week, splitting on whitespace was too crude for us to get all the words from _Persuasion_. Regex allows us to fix that."
   ]
  },
  {
   "cell_type": "code",
   "execution_count": null,
   "id": "470d8b83",
   "metadata": {},
   "outputs": [],
   "source": [
    "persuasion_words = re.findall(r'\\w+', persuasion)"
   ]
  },
  {
   "cell_type": "code",
   "execution_count": null,
   "id": "081ea88d",
   "metadata": {},
   "outputs": [],
   "source": [
    "biggest_words = sorted(persuasion_words, key=len, reverse=True)"
   ]
  },
  {
   "cell_type": "code",
   "execution_count": null,
   "id": "9faba873",
   "metadata": {},
   "outputs": [],
   "source": [
    "biggest_words[:10]"
   ]
  },
  {
   "cell_type": "code",
   "execution_count": null,
   "id": "c56771fd",
   "metadata": {},
   "outputs": [],
   "source": [
    "from collections import Counter\n"
   ]
  },
  {
   "cell_type": "code",
   "execution_count": null,
   "id": "c428a45f",
   "metadata": {},
   "outputs": [],
   "source": [
    "mycounts = Counter(persuasion_words)\n",
    "mycounts.most_common(10) # or whatever number required"
   ]
  },
  {
   "cell_type": "code",
   "execution_count": null,
   "id": "f9fa1881",
   "metadata": {},
   "outputs": [],
   "source": [
    "re.findall(r\"\\W\\w{9}\\W\", persuasion)"
   ]
  },
  {
   "cell_type": "markdown",
   "id": "8713bb2e",
   "metadata": {},
   "source": [
    "What about replacing? For that, in Python, we use ```re.sub```. It works the same way as ```findall``` but we need an extra argument to the function: the thing we want to put in place of what we found. As always, the simplest possible example is a good place to start."
   ]
  },
  {
   "cell_type": "code",
   "execution_count": null,
   "id": "b89489ce",
   "metadata": {},
   "outputs": [],
   "source": [
    "sample = \"Anne Elliot\"\n",
    "print(sample)\n",
    "sample = re.sub(r\"Anne? El+iot+\", \"the principal character\", sample)\n",
    "print(sample)"
   ]
  },
  {
   "cell_type": "markdown",
   "id": "b295046d",
   "metadata": {},
   "source": [
    "The most powerful part of replacement is re-using parts of the find, for example to add to them or move them around.\n",
    "\n",
    "To do this, put round brackets around a part of the regex you want to remember.\n",
    "\n",
    "In the replacement text the contents of the first set of brackets are referred to as \\\\1, the second set as \\\\2 and so on."
   ]
  },
  {
   "cell_type": "code",
   "execution_count": null,
   "id": "86f28ac5",
   "metadata": {},
   "outputs": [],
   "source": [
    "sample = \"Anne Elliot\"\n",
    "print(sample)\n",
    "print(\"But let's swap the names around:\")\n",
    "sample = re.sub(r\"(Anne?) (El+iot+)\", \"\\\\2, \\\\1\", sample)\n",
    "print(sample)"
   ]
  },
  {
   "cell_type": "markdown",
   "id": "490f2dba",
   "metadata": {},
   "source": [
    "### Group work"
   ]
  },
  {
   "cell_type": "markdown",
   "id": "f1f65ca7",
   "metadata": {},
   "source": [
    "#### finding\n",
    "\n",
    "1. Find the context around another main character in _Persuasion_, Captain Wentworth. \n",
    "\n",
    "2. Does Captain ever get abbreviated to _Capt._?\n",
    "\n",
    "3. Find the word following _Anne_. Can you make a unique list of these? Can you take account of punctuation between _Anne_ and the following word?\n",
    "\n",
    "4. Can you create an alphabetised list of all 9-letter words in _Persuasion_?\n",
    "\n",
    "5. By default in Python, a regex won't run past a ```\\n``` character. Can you modify one of the above searches to include characters from the next line? You might need to look at the ```re``` [https://docs.python.org/3/library/re.html](documentation) for the answer to this.\n",
    "\n",
    "#### replacing\n",
    "\n",
    "Use ```re.sub``` to replace some text in ```persuasion```. If you work on the whole novel, Python will have no trouble with this, but it might be hard to see the results. You might prefer to createe a slice of Persuasion of a few hundred characters, so you can see the output of your replacement more easily.\n",
    "\n",
    "This will overwrite the text of ```persuasion```, so if you prefer you can create a string with a different variable name, eg:\n",
    "\n",
    "```modified_persuasion = re.sub(r\"search string\", \"replacement\", persuasion)```\n",
    "\n",
    "\n",
    "#### finally\n",
    "\n",
    "Can you explain why, above, we got slightly more results for ```persuasion.count(\"Anne\")```, when compared to ```re.findall(r\"{0,20}Anne{0,20}, persuasion)```? This is a bit tricky! Maybe create a small text of your own to test the way these two behave."
   ]
  }
 ],
 "metadata": {
  "kernelspec": {
   "display_name": "Python 3 (ipykernel)",
   "language": "python",
   "name": "python3"
  },
  "language_info": {
   "codemirror_mode": {
    "name": "ipython",
    "version": 3
   },
   "file_extension": ".py",
   "mimetype": "text/x-python",
   "name": "python",
   "nbconvert_exporter": "python",
   "pygments_lexer": "ipython3",
   "version": "3.9.6"
  }
 },
 "nbformat": 4,
 "nbformat_minor": 5
}
