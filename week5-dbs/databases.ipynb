{
 "cells": [
  {
   "cell_type": "markdown",
   "id": "3306f82b",
   "metadata": {},
   "source": [
    "#### Update to last week!\n",
    "\n",
    "We used classic command line tools for working with text (because text was what early computers worked with). These are installed on everyone's laptop. \n",
    "\n",
    "However the command line doesn't just work on text. A couple of examples:\n",
    "\n",
    "- `ffmpeg` edit video and audio\n",
    "- `youtube-dlp` download video from websites (not just YouTube)\n",
    "- `curl` download from the web and query APIs\n",
    "- `wget` similar to `curl` but more designed to capture websites (eg also get the pages a page links to)\n",
    "- `jq` (OK this does work with text but often text from APIs)\n",
    "- hashing tools - check if a file is the same (works with images)\n",
    "\n",
    "And you can run programming languages on the command line too!"
   ]
  },
  {
   "cell_type": "markdown",
   "id": "b7df8392",
   "metadata": {},
   "source": [
    "#### Relational databases"
   ]
  },
  {
   "cell_type": "markdown",
   "id": "8948a6bf",
   "metadata": {},
   "source": [
    "Let's imagine we want to create a public library. Our first thought is to do the library catalogue in Excel. We can just list all the books and the location they're in. The first book we buy is *Nietzsche and Music* by Georges Li&eacute;bert.\n",
    "\n",
    "|Title|Author|Publisher|Location|\n",
    "|----|----|----|----|\n",
    "|Nietsche and Music|George Li&eacute;bert|University of Chicago Press|Philosophy, N.|\n",
    "\n",
    "\n",
    "\n"
   ]
  },
  {
   "cell_type": "markdown",
   "id": "ad119844",
   "metadata": {},
   "source": [
    "But maybe we should buy two copies and put one in the Music section:\n",
    "\n",
    "|Title|Author|Publisher|Location|\n",
    "|----|----|----|----|\n",
    "|Nietsche and Music|George Li&eacute;bert|University of Chicago Press|Philosophy, N.|\n",
    "|Nietsche and Music|George Li&eacute;bert|University of Chicago Press|Music, Composers|\n",
    "\n",
    "\n",
    "\n"
   ]
  },
  {
   "cell_type": "markdown",
   "id": "2b91214f",
   "metadata": {},
   "source": [
    "Wait, there's a typo in the title, which needs correcting twice.\n",
    "\n",
    "And a typo in the author field, which also needs correcting twice.\n",
    "\n",
    "This violates the *DRY* principle of computing: Don't Repeat Yourself.\n",
    "\n",
    "Really we just want the author once, the book title once and the publisher once. We can do this with a relational database."
   ]
  },
  {
   "cell_type": "markdown",
   "id": "2335478d",
   "metadata": {},
   "source": [
    "Let's imagine first that we have two tables: a `book` table and a `location` table.\n",
    "\n",
    "Every row in every table in a relational database has a *primary key*, which is usually an integer.\n",
    "\n",
    "|Primary Key|Title|Author|Publisher|\n",
    "|----|----|----|----|\n",
    "|1|Nietzsche and Music|Georges Li&eacute;bert|University of Chicago Press|\n",
    "\n",
    "|Primary Key|Foreign Key|Location|\n",
    "|---|---|---|\n",
    "|1|1|Philosophy, N.|\n",
    "|2|1|Music, Composers|"
   ]
  },
  {
   "cell_type": "markdown",
   "id": "84f4cf97",
   "metadata": {},
   "source": [
    "We can keep doing this, in a process known as *normalisation*. We could make an `author` table and a `publisher` table and whatever else we need.\n",
    "\n",
    "To bring the data back together, for example to display a web page of results to show users searching the catalogue, we can use *SQL*."
   ]
  },
  {
   "cell_type": "markdown",
   "id": "a9614599",
   "metadata": {},
   "source": [
    "#### SQLite\n",
    "\n",
    "To practise SQL we're going to use a free, single-file database program called SQLite.\n",
    "\n",
    "If you have a Mac you have it pre-installed because it runs things like iPhoto. If you have Python installed you have another copy because SQLite is included with a Python installation. If you have a smartphone you have another copy there because apps use SQLite. It's the second most downloaded software in the world."
   ]
  },
  {
   "cell_type": "markdown",
   "id": "7756773c",
   "metadata": {},
   "source": [
    "SQLite has two types of commands:\n",
    "    \n",
    "- SQL commands which end in a semi-colon and query the database\n",
    "- dot commands which start with a dot and change the settings\n",
    "\n",
    "SQL commands are universal. Dot commands are specific to SQLite.\n",
    "    "
   ]
  },
  {
   "cell_type": "markdown",
   "id": "972ef987",
   "metadata": {},
   "source": [
    "In the sample database, what tables do we have? For this we need a dot command:\n",
    "\n",
    "`.tables`\n",
    "\n",
    "(Two other important dot commands:\n",
    "`.help` to get help\n",
    "`.q` to quit)"
   ]
  },
  {
   "cell_type": "markdown",
   "id": "c97e19a5",
   "metadata": {},
   "source": [
    "SQL commands to search or view a database table always begin with `SELECT`. To see all the entries in the `books` table:\n",
    "\n",
    "`SELECT * FROM books;`\n",
    "\n",
    "This gives us all the columns. If you only want some columns, name them after `SELECT` and they'll come out in the order you specify:\n",
    "\n",
    "`SELECT author, title FROM books;`\n",
    "\n",
    "This is giving us *some* columns but still *all* the rows. To filter the rows you can use a `WHERE` clause. For example, to get all the history books in the table:\n",
    "\n",
    "`SELECT author, title FROM books WHERE subject = \"history\";`\n",
    "\n",
    "And we can also order the results; the default is ascending alphabetically:\n",
    "\n",
    "`SELECT author, title FROM books WHERE subject = \"history\" ORDER BY title;`"
   ]
  },
  {
   "cell_type": "markdown",
   "id": "90095a70",
   "metadata": {},
   "source": [
    "You can refine the `WHERE` clause using Booleans: `AND`, `OR` and `NOT`.\n",
    "\n",
    "`SELECT author, title FROM books WHERE subject = \"history\" AND author = \"Grafton, Anthony\";`"
   ]
  },
  {
   "cell_type": "markdown",
   "id": "4560d0d0",
   "metadata": {},
   "source": [
    "In SQLite you can do a partial match using `LIKE` and `%` as a wildcard:\n",
    "\n",
    "`SELECT title FROM books WHERE title LIKE \"%Rome%\";`"
   ]
  },
  {
   "cell_type": "markdown",
   "id": "587123ac",
   "metadata": {},
   "source": [
    "Here's a complete list of everything you *could* put into a SQL `SELECT` clause, but you usually won't need most of these:\n",
    "\n",
    "```\n",
    "SELECT DISTINCT column, AGG_FUNC(column_or_expression),\n",
    "  FROM mytable\n",
    "      JOIN another_table\n",
    "        ON mytable.column = another_table.column\n",
    "      WHERE constraint_expression\n",
    "      GROUP BY column\n",
    "      HAVING constraint_expression\n",
    "      ORDER BY column ASC/DESC\n",
    "      LIMIT count OFFSET COUNT;\n",
    "```   \n",
    "\n"
   ]
  },
  {
   "cell_type": "markdown",
   "id": "a929f367",
   "metadata": {},
   "source": [
    "#### Getting data in\n",
    "\n",
    "If you have a CSV file with headers you can create the table with a single command. We'll assume that the file `subjects.csv` is in the same directory as the database. A new table will be created called subjects:\n",
    "\n",
    "`.import subjects.csv subjects --csv`\n",
    "\n",
    "It's easy to get data out of SQLite. The dot command `.once` and a filename has the effect that the next query gets written to a file and not to screen.\n",
    "\n",
    "`.mode csv`\n",
    "\n",
    "`.once history.csv`\n",
    "\n",
    "`SELECT author, title FROM books WHERE subject = \"history\";`"
   ]
  },
  {
   "cell_type": "code",
   "execution_count": 1,
   "id": "cc27f0fd",
   "metadata": {},
   "outputs": [],
   "source": [
    "import sqlite3"
   ]
  },
  {
   "cell_type": "markdown",
   "id": "4fe9cdb1",
   "metadata": {},
   "source": [
    "Connect to the database we want to interact with:"
   ]
  },
  {
   "cell_type": "code",
   "execution_count": 2,
   "id": "e7852441",
   "metadata": {},
   "outputs": [],
   "source": [
    "con = sqlite3.connect(\"sample.db\")\n",
    "cur = con.cursor()"
   ]
  },
  {
   "cell_type": "code",
   "execution_count": 3,
   "id": "c17489d7",
   "metadata": {},
   "outputs": [
    {
     "name": "stdout",
     "output_type": "stream",
     "text": [
      "('Kaltenburg: Roman', 'Beyer, Marcel', '3', 'fiction')\n",
      "('The Calamity Form', 'Nersessian, Anahid', '1', 'literature')\n",
      "('Postwar: a history of Europe since 1945', 'Judt, Tony', '1', 'history')\n",
      "('In the beginning was the sea', 'González, Tomás', '1', 'fiction')\n",
      "('Printing technology, letters & Samuel Johnson', 'Kernan, Alvin B', '1', '')\n",
      "<class 'tuple'>\n"
     ]
    }
   ],
   "source": [
    "for row in cur.execute(\"SELECT * FROM books LIMIT 5\"):\n",
    "    print(row)\n",
    "print(type(row))\n",
    "    "
   ]
  },
  {
   "cell_type": "code",
   "execution_count": 4,
   "id": "d733fd32",
   "metadata": {},
   "outputs": [
    {
     "name": "stdout",
     "output_type": "stream",
     "text": [
      "('El obsceno pájaro de la noche', 'Donoso, José')\n",
      "('Textos cautivos: ensayos y reseñas en El Hogar', 'Borges, Jorge Luis')\n",
      "('El invierno en Lisboa', 'Muñoz Molina, Antonio')\n",
      "('El señor presidente', 'Asturias, Miguel Angel')\n",
      "('Obras completas de Alejo Carpentier. Vol 2.E El reino de este mundo ; Los pasos perdidos', 'Carpentier, Alejo')\n",
      "('La aventura comunista de Jorge Semprún: exilio, clandestinidad y ruptura', 'Nieto, Felipe')\n",
      "('La España vacía: viaje por un país que nunca fue', 'Molino, Sergio del')\n",
      "('Papeles falsos', 'Luiselli, Valeria')\n",
      "('Selected poetry of Francisco de Quevedo: a bilingual edition', 'Quevedo, Francisco de')\n",
      "('El país bajo mi piel: memorias de amor y guerra', 'Belli, Gioconda')\n",
      "('Muerte subita', 'Enrigue, Alvaro')\n",
      "('La desesperanza', 'Donoso, José')\n",
      "('Veinte años y un dia', 'Semprún, Jorge')\n",
      "('Los girasoles ciegos', 'Méndez Borra, Alberto')\n",
      "('Historia mínima de la lengua española', 'Lara, Luis Fernando')\n",
      "('La invenciòn de Morel', 'Bioy Casares, Adolfo')\n",
      "('No voy a pedirle a nadie que me crea', 'Villalobos, Juan Pablo')\n",
      "('Paradiso', 'Lezama Lima, José')\n",
      "('The complete poetry: a bilingual edition', 'Vallejo, César')\n",
      "('La muerte de Artemio Cruz', 'Fuentes, Carlos')\n",
      "('Anatomía de un instante', 'Cercas, Javier')\n",
      "('El viento que arrasa', 'Almada, Selva')\n",
      "('2666', 'Bolaño, Robert')\n",
      "('Dublinesca', 'Vila-Matas, Enrique')\n",
      "('Versiones de Teresa', 'Barba, Andrés')\n",
      "('Six masters of the Spanish sonnet', 'Barnstone, Willis, ed.')\n"
     ]
    }
   ],
   "source": [
    "for row in cur.execute(\"SELECT title, author FROM books WHERE language = 5\"):\n",
    "    print(row)\n",
    "    "
   ]
  },
  {
   "cell_type": "code",
   "execution_count": 5,
   "id": "475f4a9c",
   "metadata": {},
   "outputs": [
    {
     "name": "stdout",
     "output_type": "stream",
     "text": [
      "El obsceno pájaro de la noche\n",
      "Textos cautivos: ensayos y reseñas en El Hogar\n",
      "El invierno en Lisboa\n",
      "El señor presidente\n",
      "Obras completas de Alejo Carpentier. Vol 2.E El reino de este mundo ; Los pasos perdidos\n",
      "La aventura comunista de Jorge Semprún: exilio, clandestinidad y ruptura\n",
      "La España vacía: viaje por un país que nunca fue\n",
      "Papeles falsos\n",
      "Selected poetry of Francisco de Quevedo: a bilingual edition\n",
      "El país bajo mi piel: memorias de amor y guerra\n",
      "Muerte subita\n",
      "La desesperanza\n",
      "Veinte años y un dia\n",
      "Los girasoles ciegos\n",
      "Historia mínima de la lengua española\n",
      "La invenciòn de Morel\n",
      "No voy a pedirle a nadie que me crea\n",
      "Paradiso\n",
      "The complete poetry: a bilingual edition\n",
      "La muerte de Artemio Cruz\n",
      "Anatomía de un instante\n",
      "El viento que arrasa\n",
      "2666\n",
      "Dublinesca\n",
      "Versiones de Teresa\n",
      "Six masters of the Spanish sonnet\n"
     ]
    }
   ],
   "source": [
    "for row in cur.execute(\"SELECT title, author FROM books WHERE language = 5\"):\n",
    "    print(row[0])"
   ]
  },
  {
   "cell_type": "code",
   "execution_count": 6,
   "id": "20a87ea9",
   "metadata": {},
   "outputs": [],
   "source": [
    "html = \"\"\"<html><h2>Some books in Spanish in the database</h2>\"\"\""
   ]
  },
  {
   "cell_type": "code",
   "execution_count": 7,
   "id": "bc94d714",
   "metadata": {},
   "outputs": [
    {
     "name": "stdout",
     "output_type": "stream",
     "text": [
      "<li><i>El viento que arrasa</i> by Almada, Selva</li>\n",
      "<li><i>El señor presidente</i> by Asturias, Miguel Angel</li>\n",
      "<li><i>Versiones de Teresa</i> by Barba, Andrés</li>\n",
      "<li><i>Six masters of the Spanish sonnet</i> by Barnstone, Willis, ed.</li>\n",
      "<li><i>El país bajo mi piel: memorias de amor y guerra</i> by Belli, Gioconda</li>\n",
      "<li><i>La invenciòn de Morel</i> by Bioy Casares, Adolfo</li>\n",
      "<li><i>2666</i> by Bolaño, Robert</li>\n",
      "<li><i>Textos cautivos: ensayos y reseñas en El Hogar</i> by Borges, Jorge Luis</li>\n",
      "<li><i>Obras completas de Alejo Carpentier. Vol 2.E El reino de este mundo ; Los pasos perdidos</i> by Carpentier, Alejo</li>\n",
      "<li><i>Anatomía de un instante</i> by Cercas, Javier</li>\n",
      "<li><i>El obsceno pájaro de la noche</i> by Donoso, José</li>\n",
      "<li><i>La desesperanza</i> by Donoso, José</li>\n",
      "<li><i>Muerte subita</i> by Enrigue, Alvaro</li>\n",
      "<li><i>La muerte de Artemio Cruz</i> by Fuentes, Carlos</li>\n",
      "<li><i>Historia mínima de la lengua española</i> by Lara, Luis Fernando</li>\n",
      "<li><i>Paradiso</i> by Lezama Lima, José</li>\n",
      "<li><i>Papeles falsos</i> by Luiselli, Valeria</li>\n",
      "<li><i>La España vacía: viaje por un país que nunca fue</i> by Molino, Sergio del</li>\n",
      "<li><i>El invierno en Lisboa</i> by Muñoz Molina, Antonio</li>\n",
      "<li><i>Los girasoles ciegos</i> by Méndez Borra, Alberto</li>\n",
      "<li><i>La aventura comunista de Jorge Semprún: exilio, clandestinidad y ruptura</i> by Nieto, Felipe</li>\n",
      "<li><i>Selected poetry of Francisco de Quevedo: a bilingual edition</i> by Quevedo, Francisco de</li>\n",
      "<li><i>Veinte años y un dia</i> by Semprún, Jorge</li>\n",
      "<li><i>The complete poetry: a bilingual edition</i> by Vallejo, César</li>\n",
      "<li><i>Dublinesca</i> by Vila-Matas, Enrique</li>\n",
      "<li><i>No voy a pedirle a nadie que me crea</i> by Villalobos, Juan Pablo</li>\n"
     ]
    }
   ],
   "source": [
    "for row in cur.execute(\"SELECT title, author FROM books WHERE language = 5 ORDER BY author\"):\n",
    "    print(f\"<li><i>{row[0]}</i> by {row[1]}</li>\")\n",
    "    html += f\"<li><i>{row[0]}</i> by {row[1]}</li>\""
   ]
  },
  {
   "cell_type": "code",
   "execution_count": 8,
   "id": "6636c953",
   "metadata": {},
   "outputs": [],
   "source": [
    "f = open('spanish-books.html', 'w')\n",
    "f.write(html)\n",
    "f.close()"
   ]
  },
  {
   "cell_type": "markdown",
   "id": "003895d4",
   "metadata": {},
   "source": [
    "#### Joins\n",
    "\n",
    "Our database is very simple and doesn't really need any joins, but databases can get a lot more complicated. You *join* tables by picking columns you want from two (or more) tables and specifying what you will join on.\n",
    "\n",
    "There are several types of join, depending on what you want to do when there is no match in one table or another. But mostly you'll use the common SQL `JOIN` command, which joins only when there is a match in all the tables.\n",
    "\n",
    "Note that you have to specify the table if there are column names which are the same, so it's good practice always to do that:\n",
    "\n",
    "```\n",
    "SELECT books.title, books.author, language.name\n",
    "FROM books\n",
    "JOIN language\n",
    "ON books.language = language.id\n",
    "WHERE langauge.name = \"Spanish\";\n",
    "```"
   ]
  },
  {
   "cell_type": "code",
   "execution_count": 13,
   "id": "81720e2a",
   "metadata": {},
   "outputs": [
    {
     "name": "stdout",
     "output_type": "stream",
     "text": [
      "French: Au bon beurre, ou, Dix ans de la vie d'un crémier by Dutourd, Jean\n",
      "French: Du Hérisson by Chevillard, Eric\n",
      "French: Folie et déraison: histoire de la folie a l'âge classique by Foucault, Michel\n",
      "French: L'apparition du livre by Febvre, Lucien and Martin, Henri-Jean\n",
      "French: L'art français de la guerre: roman by Jenni, Alexis\n",
      "French: L'ogre: roman by Chessex, Jacques\n",
      "French: La bataille: roman by Rambaud, Patrick\n",
      "French: La fortune des Rougon by Zola, Émile\n",
      "French: La main de l'auteur et l'esprit de l'imprimeur: XVIe-XVIIIe siècle by Chartier, Roger\n",
      "French: La nuit sacrée: roman by Ben Jelloun, Tahar\n",
      "French: La vieille fille: le cabinet des antiques by Balzac, Honoré de\n",
      "French: Le Béharistan by Jāmī, Nūr ad-Dīn 'Abd ar-Rahmān\n",
      "French: Le chasseur Zéro: roman by Roze, Pascale\n",
      "French: Le grand incendie de Londres: récit, avec incises et bifurcations, 1985-1987 by Roubaud, Jacques\n",
      "French: Le modèle italien by Braudel, Fernand\n",
      "French: Le rivage des Syrtes by Gracq, Julien\n",
      "French: Les Filles du Calvaire: roman by Combescot, Pierre\n",
      "French: Les horreurs de l'amour by Dutourd, Jean\n",
      "French: Les mandarins: roman by Beauvoir, Simone de\n",
      "French: Les marins perdus by Izzo, Jean-Claude\n",
      "French: Les paysans by Balzac, Honoré de\n",
      "French: Morales du grand siècle by Bénichou, Paul\n",
      "French: Nicolas de Staël by Nicolas de Staël\n",
      "French: Tous ceux qui tombent. Visages du massacre de la Saint-Barthélémy by Foa, Jérémie\n",
      "French: Trois femmes puissantes: roman by NDiaye, Marie\n",
      "French: Un aller simple: roman by Cauwelaert, Didier van\n",
      "French: Un captif amoureux by Genet, Jean\n",
      "French: Un roi sans divertissement by Giono, Jean\n",
      "French: Vaste est la prison: roman by Djebar, Assia\n",
      "French: Violence, civilité, révolution by Balibar, Etienne\n",
      "French: Vivre et penser comme des porcs: de l'incitation à l'envie et à l'ennui dans les démocraties-marchés by Châtelet, Gilles.\n",
      "French: Voyage au bout de la nuit by Céline, Louis-Ferdinand\n"
     ]
    }
   ],
   "source": [
    "for row in cur.execute(\"SELECT books.title, books.author, language.name \\\n",
    "                       FROM books \\\n",
    "                       JOIN language ON books.language = language.id \\\n",
    "                       WHERE language.name = 'French'\"):\n",
    "    print(f\"{row[2]}: {row[0]} by {row[1]}\")"
   ]
  },
  {
   "cell_type": "markdown",
   "id": "5c1a8489",
   "metadata": {},
   "source": [
    "#### Group work\n",
    "\n",
    "You can do any of these in either the SQLite interface or in Python in this notebook, or both!\n",
    "\n",
    "- select everything from the language table\n",
    "- print just the ID number of German in the language table\n",
    "- print the first 100 authors from the author table\n",
    "- print the books and authors in the science category, ordered alphabetically by author\n",
    "- print out the authors from the books table whose family name begins with C\n",
    "- print out the authors from the books table whose given name begins with M but ordered by family name\n",
    "- print out the title and author of all the books either in German, Spanish or French\n",
    "- print out the title of all the books that contain the words *technology*, *science* or *digital*\n",
    "\n",
    "Just in Python\n",
    "\n",
    "- Create an HTML page called \"Non-English Books\" and populate it with a list of all the books in the books table which aren't in English, ordered by the family name of the author.\n"
   ]
  }
 ],
 "metadata": {
  "kernelspec": {
   "display_name": "Python 3 (ipykernel)",
   "language": "python",
   "name": "python3"
  },
  "language_info": {
   "codemirror_mode": {
    "name": "ipython",
    "version": 3
   },
   "file_extension": ".py",
   "mimetype": "text/x-python",
   "name": "python",
   "nbconvert_exporter": "python",
   "pygments_lexer": "ipython3",
   "version": "3.12.3"
  }
 },
 "nbformat": 4,
 "nbformat_minor": 5
}
