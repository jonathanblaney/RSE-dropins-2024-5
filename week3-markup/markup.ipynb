{
 "cells": [
  {
   "cell_type": "markdown",
   "id": "3f30e832",
   "metadata": {},
   "source": [
    "### Some of last week's regex questions."
   ]
  },
  {
   "cell_type": "code",
   "execution_count": null,
   "id": "c55c17f2",
   "metadata": {},
   "outputs": [],
   "source": [
    "with open('persuasion.txt', 'r', encoding=\"utf-8\") as f:\n",
    "    persuasion = f.read()"
   ]
  },
  {
   "cell_type": "code",
   "execution_count": null,
   "id": "cd5d352e",
   "metadata": {},
   "outputs": [],
   "source": [
    "import re"
   ]
  },
  {
   "cell_type": "markdown",
   "id": "9b559777",
   "metadata": {},
   "source": [
    "##### deal with punctuation and 's\n",
    "\n",
    "delete selected punctuation from the text"
   ]
  },
  {
   "cell_type": "code",
   "execution_count": null,
   "id": "942975b8",
   "metadata": {},
   "outputs": [],
   "source": [
    "persuasion = re.sub(r\"[.,;'’-]\", \"\", persuasion)"
   ]
  },
  {
   "cell_type": "code",
   "execution_count": null,
   "id": "d3998b9e",
   "metadata": {},
   "outputs": [],
   "source": [
    "annes_words = re.findall(r\"Annes? \\w+\", persuasion)\n",
    "annes_words"
   ]
  },
  {
   "cell_type": "markdown",
   "id": "ea2000f7",
   "metadata": {},
   "source": [
    "##### remove \"Anne\" from word found after \"Anne\"\n"
   ]
  },
  {
   "cell_type": "code",
   "execution_count": null,
   "id": "71770c09",
   "metadata": {},
   "outputs": [],
   "source": [
    "for anne_word in annes_words:\n",
    "    anne_word = re.sub(r\"Annes? \", \"\", anne_word)\n",
    "    print(anne_word)"
   ]
  },
  {
   "cell_type": "markdown",
   "id": "17c46974",
   "metadata": {},
   "source": [
    "This is a _positive lookbehind assertion_:"
   ]
  },
  {
   "cell_type": "code",
   "execution_count": null,
   "id": "558271c8",
   "metadata": {},
   "outputs": [],
   "source": [
    "annes_words = re.findall(r\"(?<=Anne )\\w+\", persuasion)\n",
    "annes_words"
   ]
  },
  {
   "cell_type": "markdown",
   "id": "490b6328",
   "metadata": {},
   "source": [
    "##### why did we miss 3 Annes?"
   ]
  },
  {
   "cell_type": "code",
   "execution_count": null,
   "id": "99be5ac7",
   "metadata": {},
   "outputs": [],
   "source": [
    "test_string = \"Anne Elliot was looking on IMDB for the characters Anne Elliot or Anne, like, for example, Anne Hathaway\""
   ]
  },
  {
   "cell_type": "markdown",
   "id": "dcb105e9",
   "metadata": {},
   "source": [
    "##### greedy"
   ]
  },
  {
   "cell_type": "code",
   "execution_count": null,
   "id": "9bb03165",
   "metadata": {},
   "outputs": [],
   "source": [
    "how_many = re.findall(r\".{0,20}Anne.{0,20}\", test_string)\n",
    "how_many"
   ]
  },
  {
   "cell_type": "markdown",
   "id": "32cb719d",
   "metadata": {},
   "source": [
    "##### lazy"
   ]
  },
  {
   "cell_type": "code",
   "execution_count": null,
   "id": "d6dbe43f",
   "metadata": {},
   "outputs": [],
   "source": [
    "how_many_now = re.findall(r\".{0,20}?Anne.{0,20}?\", test_string)\n",
    "how_many_now"
   ]
  },
  {
   "cell_type": "markdown",
   "id": "4bbea05f",
   "metadata": {},
   "source": [
    "## What is markup?\n",
    "\n",
    "The term originates in printers _marking up_ manuscripts for typesetting. They would mark things in advance to be in **bold**, _italics_, ```different font``` etc. so the type could be set efficiently.\n",
    "\n",
    "This is one type of markup: _presentational_ markup; the other is _semantic_ markup. \n",
    "\n",
    "But of course there are grey areas. If we refer to 'Hamlet' and '_Hamlet_' we mean the character and the play respectively."
   ]
  },
  {
   "cell_type": "markdown",
   "id": "71ae1092",
   "metadata": {},
   "source": [
    "#### And why should we care?\n",
    "\n",
    "In DH you are highly likely to come across data that is marked up in some way. You might want to extract data from the markup or you might want to convert the markup into something else.\n",
    "\n",
    "You may also want to mark up data yourself. Markup is on a spectrum from extremely light to very dense, depending on the project and the research questions.\n",
    "\n",
    "Some types of markup are easier to extract data from than others!"
   ]
  },
  {
   "cell_type": "markdown",
   "id": "813eb5b0",
   "metadata": {},
   "source": [
    "##### Markdown\n",
    "\n",
    "There are _many_ types of markup. In this workshop we'll only look at four (or maybe three and a half):\n",
    "- Markdown\n",
    "- HTML\n",
    "- LaTeX\n",
    "- XML"
   ]
  },
  {
   "cell_type": "markdown",
   "id": "49a734ea",
   "metadata": {},
   "source": [
    "<h5>HTML</h5>\n",
    "\n",
    "<p>There are <i>many</i> types of markup. In this workshop we'll only look at four (or maybe three and a half):</p>\n",
    "<ul>\n",
    "    <li>Markdown</li>\n",
    "    <li>HTML</li>\n",
    "    <li>LaTeX</li>\n",
    "    <li>XML</li>\n",
    "</ul>"
   ]
  },
  {
   "cell_type": "markdown",
   "id": "66e3cd16",
   "metadata": {},
   "source": [
    "\\begin{equation}\n",
    "\\text{Dice}(A, B) = \\frac{2 |A \\cap B|}{|A| + |B|}\n",
    "\\end{equation}"
   ]
  },
  {
   "cell_type": "markdown",
   "id": "7a81e32b",
   "metadata": {},
   "source": [
    "### The rules of XML\n",
    "\n",
    "- There must be a _root element_ which wraps around everything else, eg ```<persuasion>...</persuasion>```\n",
    "- Elements must nest inside each other: ```<chapter><paragraph>...</paragraph></chapter>```\n",
    "- Starting and opening tags must match in case: ```<Head>...</Head>```\n",
    "- Attributes must be in quotation marks ```<character name=\"Anne Elliot\">Miss Elliot</character>```"
   ]
  },
  {
   "cell_type": "markdown",
   "id": "061a5a7f",
   "metadata": {},
   "source": [
    "### Markup schemes\n",
    "\n",
    "With XML you are free to use any elements you like. This brings great flexibility.\n",
    "\n",
    "However it creates a couple of problems:\n",
    "\n",
    "- If texts are marked up differently they're not usable _en masse_\n",
    "- Writing your own scheme is a lot of work\n",
    "\n",
    "A solution is to use an existing encoding scheme. There are many, but the most commonly used one in Digital Humanities is the [Text Encoding Initiative](https://www.tei-c.org).\n",
    "    "
   ]
  },
  {
   "cell_type": "markdown",
   "id": "625ca033",
   "metadata": {},
   "source": [
    "#### Group work\n",
    "\n",
    "Mark up the first couple of pages of ```persuasion.xml```. \n",
    "- Decide on what you want to mark up: proper nouns, parts of speech, whatever you like\n",
    "- Come up with a markup scheme: what will be an element name and what will be an attribute value?\n",
    "- Periodically check that your XML is valid by opening it/refreshing it in a browser\n",
    "- If you have time, try to map your markup to the elements used in TEI"
   ]
  }
 ],
 "metadata": {
  "kernelspec": {
   "display_name": "Python 3 (ipykernel)",
   "language": "python",
   "name": "python3"
  },
  "language_info": {
   "codemirror_mode": {
    "name": "ipython",
    "version": 3
   },
   "file_extension": ".py",
   "mimetype": "text/x-python",
   "name": "python",
   "nbconvert_exporter": "python",
   "pygments_lexer": "ipython3",
   "version": "3.12.3"
  }
 },
 "nbformat": 4,
 "nbformat_minor": 5
}
