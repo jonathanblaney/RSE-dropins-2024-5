{
 "cells": [
  {
   "cell_type": "markdown",
   "id": "b4ce9d0c",
   "metadata": {},
   "source": [
    "## Plain text and text encodings"
   ]
  },
  {
   "cell_type": "markdown",
   "id": "d33823f6",
   "metadata": {},
   "source": [
    "### What is Python and what can it do?\n",
    "\n",
    "It's a free, open-source general purpose language. Nowadays the only version to use is Python 3 and the most up-to-date release is 3.13 (Python 2 is maintained on some systems for legacy reasons but new code should not be written in it). \n",
    "\n",
    "Python can essentially do anything a computer can do, although it might not be the best choice for some things. It's a first choice for a lot of data science work and has become the main language for machine learning/AI.\n",
    "\n",
    "Because of its breadth, there will always be areas of Python that are unfamiliar. If you know the fundamentals and have some practice, you'll be able to understand lots of Python code, even if the applications of it are different from what you're used to."
   ]
  },
  {
   "cell_type": "markdown",
   "id": "c29f56e0",
   "metadata": {},
   "source": [
    "### How do you run Python?\n",
    "\n",
    "* Run a Python script (a text file with a ```.py``` extension) from the command line: ```python myscript.py```\n",
    "* From the built-in Python shell from the command line: type ```python``` and return and you'll get a prompt: this is an exploratory environment where you can try snippets\n",
    "* From an installed shell like ```iPython```: a more full featured version of the above\n",
    "* From an installed program like Jupyter Notebook, which runs in a browser\n",
    "* Online in Google Colab, Python Anywhere, GitHub Actions or many others"
   ]
  },
  {
   "cell_type": "markdown",
   "id": "c478ca65",
   "metadata": {},
   "source": [
    "In Python it's easy to work with plain text. With ```persuasion.txt``` in the same folder as this notebook, we can read in the whole of Austen's _Persuasion_ like this:"
   ]
  },
  {
   "cell_type": "code",
   "execution_count": 3,
   "id": "25ef323e",
   "metadata": {},
   "outputs": [],
   "source": [
    "with open('persuasion.txt', 'r', encoding='utf-8') as f:\n",
    "    persuasion = f.read()"
   ]
  },
  {
   "cell_type": "markdown",
   "id": "7dacdffb",
   "metadata": {},
   "source": [
    "If you're running this notebook on Colab, rather than from Jupyter Notebook on your laptop, you will need to do two extra things to read and write files:\n",
    "#### import and mount Drive like this:\n",
    "\n",
    "```from google.colab import drive```\n",
    "\n",
    "```drive.mount('/content/drive')```\n",
    "\n",
    "#### open the revelant folder on Drive depending on where you saved the file, eg:\n",
    "\n",
    "```with open('drive/MyDrive/plain-text/persuasion.txt', 'r'): as fr:```\n",
    "    \n",
    "```    persuasion = f.read()```\n",
    "\n"
   ]
  },
  {
   "cell_type": "markdown",
   "id": "977e4cc1",
   "metadata": {},
   "source": [
    "Now ```persuasion``` is a variable pointing at the full text of _Persuasion_. We can view the contents of a variable in Jupyter just by typing it in a code cell.\n",
    "\n",
    "What usable information do we have here? Python has read and closed the file on your laptop so open it with a text editor and compare the output. What information can we get from plain text?"
   ]
  },
  {
   "cell_type": "code",
   "execution_count": null,
   "id": "05c23b6a",
   "metadata": {},
   "outputs": [],
   "source": [
    "persuasion"
   ]
  },
  {
   "cell_type": "markdown",
   "id": "1f6a7b8b",
   "metadata": {},
   "source": [
    "Notice that this is fast. Plain text like this is very fast on a modern computer. But it's not very convenient for reading a novel."
   ]
  },
  {
   "cell_type": "markdown",
   "id": "6b16fbe4",
   "metadata": {},
   "source": [
    "We can see parts of the text using Python's _slice_ notation. The numbers are character positions within the big text string which is ```persuasion```. Try changing these to get a different slice."
   ]
  },
  {
   "cell_type": "code",
   "execution_count": null,
   "id": "4892ce31",
   "metadata": {},
   "outputs": [],
   "source": [
    "persuasion[2000:3000]"
   ]
  },
  {
   "cell_type": "markdown",
   "id": "c7a9b23f",
   "metadata": {},
   "source": [
    "How many characters are there in total? We can get this with the ```len``` function:"
   ]
  },
  {
   "cell_type": "code",
   "execution_count": null,
   "id": "05ee6245",
   "metadata": {},
   "outputs": [],
   "source": [
    "len(persuasion)"
   ]
  },
  {
   "cell_type": "markdown",
   "id": "35985609",
   "metadata": {},
   "source": [
    "Does this seem reasonable?"
   ]
  },
  {
   "cell_type": "markdown",
   "id": "7aee96dc",
   "metadata": {},
   "source": [
    "The line endings are annoying. Here they're represented by ```\\n``` (Unix line endings) but you will also see ```\\r\\n``` (Windows line endings).\n",
    "\n",
    "We can get rid of them with Python's built-in ```replace``` method:"
   ]
  },
  {
   "cell_type": "code",
   "execution_count": null,
   "id": "3217a11b",
   "metadata": {},
   "outputs": [],
   "source": [
    "persuasion = persuasion.replace(\"\\n\", \" \")"
   ]
  },
  {
   "cell_type": "code",
   "execution_count": null,
   "id": "a46b5a7c",
   "metadata": {},
   "outputs": [],
   "source": [
    "persuasion[1000:2000]"
   ]
  },
  {
   "cell_type": "markdown",
   "id": "8becfd08",
   "metadata": {},
   "source": [
    "What else can we do with built-in methods? Jupyter will help you. Type ```.?``` after the variable you want to do something with (in this case ```persuasion```). Then press tab. This will show the string available."
   ]
  },
  {
   "cell_type": "code",
   "execution_count": null,
   "id": "8e78b975",
   "metadata": {},
   "outputs": [],
   "source": [
    "persuasion."
   ]
  },
  {
   "cell_type": "markdown",
   "id": "7c94ee43",
   "metadata": {},
   "source": [
    "The methods available with ```persuasion``` depend on what type of thing ```persuasion``` is. We can find out with ```type```. This is a very useful function in Python because it's easy to be under a misapprehension about what you're dealing with (which leads to a ```type error```)."
   ]
  },
  {
   "cell_type": "code",
   "execution_count": null,
   "id": "d39ae4f5",
   "metadata": {},
   "outputs": [],
   "source": [
    "type(persuasion)"
   ]
  },
  {
   "cell_type": "markdown",
   "id": "90325d79",
   "metadata": {},
   "source": [
    "So ```persuasion``` is a string and we can use any of Python's built-in string methods on it. Let's try ```find```. Anne Elliot is the principal character in _Persuasion_ so let's look for _Anne_"
   ]
  },
  {
   "cell_type": "code",
   "execution_count": null,
   "id": "7b42f237",
   "metadata": {},
   "outputs": [],
   "source": [
    "persuasion.find(\"Anne\")"
   ]
  },
  {
   "cell_type": "markdown",
   "id": "7d5e8ebc",
   "metadata": {},
   "source": [
    "Wait, what does ```2133``` refer to? You can get help on a particular method with a ```?``` and then shift + tab."
   ]
  },
  {
   "cell_type": "code",
   "execution_count": null,
   "id": "4f23ee0d",
   "metadata": {},
   "outputs": [],
   "source": [
    "persuasion.find?"
   ]
  },
  {
   "cell_type": "markdown",
   "id": "b365109d",
   "metadata": {},
   "source": [
    "This is perhaps a bit abstruse but it means that _Anne_ first occurs in our _Persuasion_ string at character number 2133. Is that useful?"
   ]
  },
  {
   "cell_type": "markdown",
   "id": "27822510",
   "metadata": {},
   "source": [
    "Let's try the ```count``` method. That seems like it should count the number of occurrences of something, but we can check."
   ]
  },
  {
   "cell_type": "code",
   "execution_count": null,
   "id": "24d8b2fc",
   "metadata": {},
   "outputs": [],
   "source": [
    "persuasion.count?"
   ]
  },
  {
   "cell_type": "code",
   "execution_count": null,
   "id": "ff79d992",
   "metadata": {},
   "outputs": [],
   "source": [
    "persuasion.count(\"Anne\")"
   ]
  },
  {
   "cell_type": "markdown",
   "id": "1873d6de",
   "metadata": {},
   "source": [
    "We have to be careful with results like these. Does it mean that the person _Anne_ is mentioned 496 times in _Persuasion_? Maybe, but is there a character called _Annette_ or a trip to _Annecy_ in France? Is there even another character called Anne who is not Anne Elliot?"
   ]
  },
  {
   "cell_type": "code",
   "execution_count": null,
   "id": "01100999",
   "metadata": {},
   "outputs": [],
   "source": [
    "persuasion.count(\"Anne Elliot\")"
   ]
  },
  {
   "cell_type": "code",
   "execution_count": null,
   "id": "18c597d8",
   "metadata": {},
   "outputs": [],
   "source": [
    "persuasion.count(\"Miss Elliot\")"
   ]
  },
  {
   "cell_type": "markdown",
   "id": "2e1ec0c7",
   "metadata": {},
   "source": [
    "Notice that when we get the length of _Persuasion_ the syntax is different from when we count occurrences:\n",
    "    \n",
    "```len(persuasion)```\n",
    "\n",
    "```persuasion.count(\"Anne\")```"
   ]
  },
  {
   "cell_type": "markdown",
   "id": "348ba0d6",
   "metadata": {},
   "source": [
    "```len``` is a _function_ but ```count``` is a particular type of function, called a _method_.\n",
    "\n",
    "Why do you get an error if you run ```len``` on an integer, eg ```len(5)```? Why isn't the answer 1?"
   ]
  },
  {
   "cell_type": "markdown",
   "id": "4a522162",
   "metadata": {},
   "source": [
    "### Group work"
   ]
  },
  {
   "cell_type": "markdown",
   "id": "40875488",
   "metadata": {},
   "source": [
    "Keeping to the constraint of not importing any Python modules, just using built-in methods and functions, what else can you do with _Persuasion_?\n",
    "\n",
    "- [list of string methods with examples](https://www.tutorialstonight.com/python/python-string-methods)\n",
    "\n",
    "\n",
    "Here are some ideas, but feel free to do your own thing:\n",
    "- divide up the text into equal chunks and look for distributions of words of phrases through the novel\n",
    "- get some context around a string you find using slice notation (yes this is very crude)\n",
    "- split the text on spaces using the ```split``` method. What are the pros and cons of this? \n",
    "- from the split text create a unique list of the strings and count\n",
    "- tediously remove the punctuation to improve the results of this\n",
    "- don't forget that you can use ```persuasion.?``` to find other string methods; are these useful?"
   ]
  },
  {
   "cell_type": "markdown",
   "id": "025c6810",
   "metadata": {},
   "source": [
    "Now import _Emma_ from the same folder as _Persuasion_. You should have both texts in memory and so can do some comparative work using Python. Again, don't import anything, see how you can work withiin the constraint."
   ]
  },
  {
   "cell_type": "markdown",
   "id": "38281fd3",
   "metadata": {},
   "source": [
    "If you still have time. Find another text online and import that. Look for something which isn't a novel and see what difference it makes to what you can do with it. Possible sources for plain-text files are:\n",
    "\n",
    "[Gutenberg](https://gutenberg.org)\n",
    "\n",
    "[Oxford Text Archive](https://ota.bodleian.ox.ac.uk/repository/xmlui/)\n",
    "\n",
    "[Wikisource](https://en.wikisource.org/wiki/Main_Page)"
   ]
  }
 ],
 "metadata": {
  "kernelspec": {
   "display_name": "Python 3 (ipykernel)",
   "language": "python",
   "name": "python3"
  },
  "language_info": {
   "codemirror_mode": {
    "name": "ipython",
    "version": 3
   },
   "file_extension": ".py",
   "mimetype": "text/x-python",
   "name": "python",
   "nbconvert_exporter": "python",
   "pygments_lexer": "ipython3",
   "version": "3.9.6"
  }
 },
 "nbformat": 4,
 "nbformat_minor": 5
}
